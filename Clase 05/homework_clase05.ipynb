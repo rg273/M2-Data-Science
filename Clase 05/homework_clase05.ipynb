{
 "cells": [
  {
   "cell_type": "markdown",
   "metadata": {},
   "source": [
    "Clase 05 Pobabilidad"
   ]
  },
  {
   "cell_type": "code",
   "execution_count": null,
   "metadata": {},
   "outputs": [],
   "source": [
    "#1. Lanza una moneda al aire 10 veces, ¿cuantos resultados posibles forman parte del espacio muestral?.\n",
    "cant_veces = int(input(\"Ingrese la cantidad de veces a tirar la moneda: \"))\n",
    "resultado = 2 ** cant_veces\n",
    "print(\"Los resultados posibles son\", resultado)"
   ]
  },
  {
   "cell_type": "code",
   "execution_count": null,
   "metadata": {},
   "outputs": [],
   "source": [
    "#2. En un aeropuerto se tiene a 10 pasajeros esperando en la sala de preembarque, la polícia debe controlar a 3 de ellos. ¿Cuantas combinaciones posibles se pueden obtener?.\n",
    "from math import factorial\n",
    "control_aeropuerto = factorial(10) / (factorial(3) * factorial(10-3))\n",
    "print(\"La combinaciones posibles son:\", control_aeropuerto)"
   ]
  },
  {
   "cell_type": "code",
   "execution_count": null,
   "metadata": {},
   "outputs": [],
   "source": [
    "#3. La Agencia Nacional de Seguridad Vial realizó una investigación para saber si los conductores de están usando sus cinturones de seguridad. Los datos muestrales fueron los siguientes:<br>\n",
    " # a) ¿Qué metodo cree que se utilizo para asignar probabilidades?.\n",
    "# b) Construya un cuadro similar, pero con la asignación de probabilidades.\n",
    "\n",
    "# a) Probabilidad frecuentista\n",
    "\n",
    "# ¿Cuál sería el mejor método pára estimar la probabilidad de que en Estados Unidos un conductor lleve puesto el cinturón?.\n",
    "# Método frecuentista\n",
    "\n",
    "# d) Un año antes, la probabilidad en Argentina de que un conductor llevara puesto el cinturón era 0.75. El director de ANSV, se esperaba que la probabilidad llegara a 0.78. ¿Estará satisfecho con los resultados del estudio?"
   ]
  },
  {
   "cell_type": "code",
   "execution_count": null,
   "metadata": {},
   "outputs": [],
   "source": [
    "cantidad_total_cinturon_usado = 858\n",
    "tamanio_muestra = 1086\n",
    "tasa_uso = cantidad_total_cinturon_usado / tamanio_muestra\n",
    "if tasa_uso >= 0.78: print(\"El director está contento con los resultados:\", round(tasa_uso,2))\n",
    "else: print(\"El director no está contento con los resultados:\", round(tasa_uso,2))"
   ]
  },
  {
   "cell_type": "markdown",
   "metadata": {},
   "source": [
    "¿Cuál es la probabilidad de que se use el cinturón en las distintas regiones del país? ¿En qué región se usa más el cinturón?(Utilizar misma tabla que el ejercicio anterior)."
   ]
  },
  {
   "cell_type": "code",
   "execution_count": null,
   "metadata": {},
   "outputs": [],
   "source": [
    "muestra_total = 1086\n",
    "probabilidades = [148/muestra_total, 162/muestra_total, 296/muestra_total, 252/muestra_total]\n",
    "norte = 148/muestra_total\n",
    "noroeste = 162/muestra_total\n",
    "sur = 296/muestra_total\n",
    "centro = 252/muestra_total\n",
    "print(norte, noroeste, sur, centro)\n",
    "print(\"La región que usa más el cinturón es:\",  max(probabilidades))"
   ]
  },
  {
   "cell_type": "code",
   "execution_count": 16,
   "metadata": {},
   "outputs": [
    {
     "data": {
      "text/plain": [
       "1.0"
      ]
     },
     "execution_count": 16,
     "metadata": {},
     "output_type": "execute_result"
    }
   ],
   "source": [
    "#4. Crear una funcion que permita calcular a probabilidad de los siguientes eventos en un baraja de 52 cartas.<br>\n",
    "#- Obtener una carta roja.<br>\n",
    "#- Obtener una carta negra.<br>\n",
    "#- Obtener una pica.<br>\n",
    "#- Obtener un trébol.<br>\n",
    "#- Obtener un corazón.<br>\n",
    "#- Obtener un diamante.<br>\n",
    "\n",
    "#La probabilidad de que salga un 7 o un 8 al seleccionar una carta de una baraja de las 52 cartas que contiene el mazo. <br>\n",
    "\n",
    "def probabilidadCartas(categoria):\n",
    "   cant_cartas = 52\n",
    "   cant_cartas_por_color = cant_cartas / 2\n",
    "   cant_cartas_por_palo = cant_cartas / 4\n",
    "   if categoria == 'rojo' or categoria == 'negro': return cant_cartas_por_color / cant_cartas\n",
    "   elif categoria in ('pica', 'trebol', 'corazón', 'diamante'): return cant_cartas_por_palo / cant_cartas\n",
    "\n",
    "probabilidadCartas('rojo')"
   ]
  },
  {
   "cell_type": "code",
   "execution_count": 18,
   "metadata": {},
   "outputs": [
    {
     "name": "stdout",
     "output_type": "stream",
     "text": [
      "0.15384615384615385\n"
     ]
    }
   ],
   "source": [
    "#La probabilidad de que salga un 7 o un 8 al seleccionar una carta de una baraja de las 52 cartas que contiene el mazo. <br>\n",
    "cant_cartas = 52\n",
    "cant_cartas_por_numero = 4\n",
    "prob_carta = cant_cartas_por_numero/cant_cartas\n",
    "print(prob_carta*2)"
   ]
  },
  {
   "cell_type": "code",
   "execution_count": 19,
   "metadata": {},
   "outputs": [
    {
     "name": "stdout",
     "output_type": "stream",
     "text": [
      "0.4 0.26 0.34\n"
     ]
    }
   ],
   "source": [
    "# 7. Un experimento que tiene tres resultados es repetido 50 veces y se ve que R1 aparece 20 veces, R2 13 veces y R3 17 veces. Asigne probabilidades a los resultados.<br>\n",
    "resultado1 = 20/50\n",
    "resultado2 = 13/50\n",
    "resultado3 = 17/50\n",
    "\n",
    "print(resultado1, resultado2,resultado3)"
   ]
  }
 ],
 "metadata": {
  "interpreter": {
   "hash": "11938c6bc6919ae2720b4d5011047913343b08a43b18698fd82dedb0d4417594"
  },
  "kernelspec": {
   "display_name": "Python 3.9.7 64-bit",
   "language": "python",
   "name": "python3"
  },
  "language_info": {
   "codemirror_mode": {
    "name": "ipython",
    "version": 3
   },
   "file_extension": ".py",
   "mimetype": "text/x-python",
   "name": "python",
   "nbconvert_exporter": "python",
   "pygments_lexer": "ipython3",
   "version": "3.9.7"
  },
  "orig_nbformat": 4
 },
 "nbformat": 4,
 "nbformat_minor": 2
}
