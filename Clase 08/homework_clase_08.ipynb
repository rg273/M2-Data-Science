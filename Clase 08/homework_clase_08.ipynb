{
 "cells": [
  {
   "cell_type": "markdown",
   "metadata": {},
   "source": [
    "Ejercicio prob dist normal"
   ]
  },
  {
   "cell_type": "code",
   "execution_count": 1,
   "metadata": {},
   "outputs": [
    {
     "name": "stdout",
     "output_type": "stream",
     "text": [
      "0.48\n"
     ]
    }
   ],
   "source": [
    "X= 90\n",
    "mu = 78\n",
    "sigma = 25\n",
    "z = (X-mu) / sigma\n",
    "print(z)\n",
    "#p(x>=90) = 0.3156"
   ]
  },
  {
   "cell_type": "markdown",
   "metadata": {},
   "source": [
    "Afirmación\n",
    "H0 : mu <= 600\n",
    "Ha : mu > 600\n",
    "#b Lo dicho por el gerente es cierto\n",
    "#c Lo clientes gastan más de 600"
   ]
  },
  {
   "cell_type": "markdown",
   "metadata": {},
   "source": [
    "2 Investigación\n",
    "H0: mu <= 14\n",
    "Ha: mu > 14\n",
    "No tengo evidencia que el método aplicado mejore las ventas.\n",
    "El nuevo plan incrementa las ventas"
   ]
  },
  {
   "cell_type": "markdown",
   "metadata": {},
   "source": [
    "H0: mu <= 56.2\n",
    "Ha: mu > 56.2\n",
    "Error tipo I: Rechazar H0, y era verdadera.\n",
    "Error tipo II: Aceptar H0, y era falsa."
   ]
  },
  {
   "cell_type": "markdown",
   "metadata": {},
   "source": [
    "Afirmación\n",
    "H0: mu <= 1\n",
    "Ha: mu > 1\n",
    "Error tipo I: Rechazar H0, y era verdadera. El jugo tenía <= 1\n",
    "Error tipo II: Aceptar H0, y era falsa. El jugo tiene > 1"
   ]
  }
 ],
 "metadata": {
  "interpreter": {
   "hash": "11938c6bc6919ae2720b4d5011047913343b08a43b18698fd82dedb0d4417594"
  },
  "kernelspec": {
   "display_name": "Python 3.9.7 64-bit",
   "language": "python",
   "name": "python3"
  },
  "language_info": {
   "codemirror_mode": {
    "name": "ipython",
    "version": 3
   },
   "file_extension": ".py",
   "mimetype": "text/x-python",
   "name": "python",
   "nbconvert_exporter": "python",
   "pygments_lexer": "ipython3",
   "version": "3.9.7"
  },
  "orig_nbformat": 4
 },
 "nbformat": 4,
 "nbformat_minor": 2
}
