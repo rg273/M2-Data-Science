{
 "cells": [
  {
   "cell_type": "markdown",
   "metadata": {},
   "source": [
    "Homework clase 04"
   ]
  },
  {
   "cell_type": "code",
   "execution_count": 1,
   "metadata": {},
   "outputs": [],
   "source": [
    "import numpy as np # importando numpy\n",
    "from scipy import stats # importando scipy.stats\n",
    "import pandas as pd #importando pandas\n",
    "import matplotlib.pyplot as plt # importando matplotlib\n",
    "import seaborn as sns # importando seaborn"
   ]
  },
  {
   "cell_type": "code",
   "execution_count": 2,
   "metadata": {},
   "outputs": [],
   "source": [
    "muestra = np.array( [[1.85, 1.8, 1.8 , 1.8],\n",
    "                    [1.73,  1.7, 1.75, 1.76],\n",
    "                    [ 1.65, 1.69,  1.67 ,  1.6],\n",
    "                    [1.54,  1.57, 1.58, 1.59],\n",
    "                    [ 1.4 , 1.42,  1.45, 1.48]]) "
   ]
  },
  {
   "cell_type": "code",
   "execution_count": null,
   "metadata": {},
   "outputs": [],
   "source": [
    "# Media\n",
    "print(muestra.mean())\n",
    "print(np.mean(muestra))"
   ]
  },
  {
   "cell_type": "code",
   "execution_count": null,
   "metadata": {},
   "outputs": [],
   "source": [
    "# Mediana\n",
    "ordenado = np.sort(muestra)\n",
    "print(ordenado)\n",
    "np.median(muestra)"
   ]
  },
  {
   "cell_type": "code",
   "execution_count": 5,
   "metadata": {},
   "outputs": [
    {
     "name": "stdout",
     "output_type": "stream",
     "text": [
      "ModeResult(mode=array([1.8]), count=array([3]))\n"
     ]
    },
    {
     "data": {
      "text/plain": [
       "1.8"
      ]
     },
     "execution_count": 5,
     "metadata": {},
     "output_type": "execute_result"
    }
   ],
   "source": [
    "#Moda\n",
    "print(stats.mode(muestra.flatten()))\n",
    "def obtenerModa(arreglo):\n",
    "   numeros = [valor for fila in arreglo for valor in fila]\n",
    "   unicos = []\n",
    "   for num in numeros:\n",
    "      if num not in unicos: unicos.append(num)\n",
    "   moda = 0\n",
    "   maximo = 0\n",
    "   for indice, numero in enumerate(unicos):\n",
    "      conteo = numeros.count(numero)\n",
    "      if conteo > maximo:\n",
    "         maximo = conteo\n",
    "         moda = unicos[indice]\n",
    "   return moda\n",
    "\n",
    "obtenerModa(muestra)"
   ]
  },
  {
   "cell_type": "code",
   "execution_count": null,
   "metadata": {},
   "outputs": [],
   "source": [
    "#Varianza\n",
    "print(np.var(muestra))"
   ]
  },
  {
   "cell_type": "code",
   "execution_count": null,
   "metadata": {},
   "outputs": [],
   "source": [
    "#Desvío estándar\n",
    "print(np.std(muestra))"
   ]
  },
  {
   "cell_type": "code",
   "execution_count": null,
   "metadata": {},
   "outputs": [],
   "source": [
    "numeros = [valor for fila in muestra for valor in fila]\n",
    "intervalos = 5\n",
    "print(numeros)"
   ]
  },
  {
   "cell_type": "code",
   "execution_count": null,
   "metadata": {},
   "outputs": [],
   "source": [
    "frecuencias, extremos = np.histogram(muestra, bins=intervalos)\n",
    "print(frecuencias, extremos)"
   ]
  },
  {
   "cell_type": "code",
   "execution_count": null,
   "metadata": {},
   "outputs": [],
   "source": [
    "plt.hist(x=numeros, bins=intervalos, color = 'cyan', rwidth = 0.75)\n",
    "plt.title(\"Histograma de altura alumnos\", color = 'red')\n",
    "plt.xlabel(\"Altura\")\n",
    "plt.ylabel(\"Frecuencia\")\n",
    "plt.show()"
   ]
  },
  {
   "cell_type": "code",
   "execution_count": null,
   "metadata": {},
   "outputs": [],
   "source": [
    "df = pd.DataFrame(muestra, index = range(1,6), columns=['col1', 'col2', 'col3', 'col4'])\n",
    "df.describe()"
   ]
  },
  {
   "cell_type": "code",
   "execution_count": null,
   "metadata": {},
   "outputs": [],
   "source": [
    "grupos = np.array(\n",
    "   [[10.5, 17],\n",
    "    [6.8, 18],\n",
    "    [20.7, 21],\n",
    "    [18.2, 16],\n",
    "    [8.6, 16],\n",
    "    [25.8, 21],\n",
    "    [22.2, 16],\n",
    "    [5.9, 14],\n",
    "    [7.6, 18],\n",
    "    [11.8, 18],\n",
    "    ]\n",
    ")\n",
    "\n",
    "grupos_df = pd.DataFrame(grupos, index=range(1,11), columns=['Ingreso en miles', 'Años de estudio'])\n",
    "grupos_df.describe()"
   ]
  },
  {
   "cell_type": "code",
   "execution_count": null,
   "metadata": {},
   "outputs": [],
   "source": [
    "plt.hist(x=grupos_df[['Ingreso en miles']], bins = 6, color = 'magenta', rwidth = 0.75)\n",
    "plt.title(\"Histograma de Ingresos\", color = 'red')\n",
    "plt.xlabel(\"Ingreso en miles\")\n",
    "plt.ylabel(\"Frecuencia\")\n",
    "plt.show()"
   ]
  },
  {
   "cell_type": "code",
   "execution_count": null,
   "metadata": {},
   "outputs": [],
   "source": [
    "plt.hist(x=grupos_df[['Años de estudio']], bins = 6, color = 'blue', rwidth = 0.75)\n",
    "plt.title(\"Histograma de Años de estudio\", color = 'red')\n",
    "plt.xlabel(\"Años de estudio\")\n",
    "plt.ylabel(\"Frecuencia\")\n",
    "plt.show()"
   ]
  },
  {
   "cell_type": "code",
   "execution_count": null,
   "metadata": {},
   "outputs": [],
   "source": [
    "#Media Ingreso en miles\n",
    "grupos_df[['Ingreso en miles']].mean()"
   ]
  },
  {
   "cell_type": "code",
   "execution_count": null,
   "metadata": {},
   "outputs": [],
   "source": [
    "round(np.mean(grupos[:, 0]), 2)"
   ]
  },
  {
   "cell_type": "code",
   "execution_count": null,
   "metadata": {},
   "outputs": [],
   "source": [
    "grupos_df.loc[11] = [50, 35]\n",
    "grupos_df.loc[12] = [120, 30]\n",
    "grupos_df.describe()"
   ]
  }
 ],
 "metadata": {
  "interpreter": {
   "hash": "11938c6bc6919ae2720b4d5011047913343b08a43b18698fd82dedb0d4417594"
  },
  "kernelspec": {
   "display_name": "Python 3.9.7 64-bit",
   "language": "python",
   "name": "python3"
  },
  "language_info": {
   "codemirror_mode": {
    "name": "ipython",
    "version": 3
   },
   "file_extension": ".py",
   "mimetype": "text/x-python",
   "name": "python",
   "nbconvert_exporter": "python",
   "pygments_lexer": "ipython3",
   "version": "3.9.7"
  },
  "orig_nbformat": 4
 },
 "nbformat": 4,
 "nbformat_minor": 2
}
