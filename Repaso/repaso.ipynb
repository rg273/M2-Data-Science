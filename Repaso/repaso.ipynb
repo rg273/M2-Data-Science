{
 "cells": [
  {
   "cell_type": "code",
   "execution_count": 12,
   "metadata": {},
   "outputs": [
    {
     "name": "stdout",
     "output_type": "stream",
     "text": [
      "0.006033182503770739\n"
     ]
    }
   ],
   "source": [
    "# un 7 O un 8\n",
    "#prob = round((4/52) + (4/52),2)\n",
    "\n",
    "# 7 O Rojo\n",
    "#prob = (4/52) + (26/52) - (2/52)\n",
    "\n",
    "# 7 y rojo\n",
    "#prob = (4/52) * (26/52)\n",
    "#prob2 = 2/52\n",
    "#print(prob)\n",
    "#print(prob2)\n",
    "\n",
    "#7 y 8\n",
    "#prob = (4/52) * (4/51)\n",
    "#print(prob)\n",
    "\n",
    "#7 y 7\n",
    "#prob = (4/52) * (3/51)\n",
    "#print(prob)"
   ]
  }
 ],
 "metadata": {
  "interpreter": {
   "hash": "11938c6bc6919ae2720b4d5011047913343b08a43b18698fd82dedb0d4417594"
  },
  "kernelspec": {
   "display_name": "Python 3.9.7 64-bit",
   "language": "python",
   "name": "python3"
  },
  "language_info": {
   "codemirror_mode": {
    "name": "ipython",
    "version": 3
   },
   "file_extension": ".py",
   "mimetype": "text/x-python",
   "name": "python",
   "nbconvert_exporter": "python",
   "pygments_lexer": "ipython3",
   "version": "3.9.7"
  },
  "orig_nbformat": 4
 },
 "nbformat": 4,
 "nbformat_minor": 2
}
