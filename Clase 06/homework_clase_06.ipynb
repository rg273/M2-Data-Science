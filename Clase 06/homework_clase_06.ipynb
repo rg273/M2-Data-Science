{
 "cells": [
  {
   "cell_type": "markdown",
   "metadata": {},
   "source": [
    "Homework clase 6"
   ]
  },
  {
   "cell_type": "code",
   "execution_count": null,
   "metadata": {},
   "outputs": [],
   "source": [
    "# 1. Suponga dos eventos, A y B, y que P(A) = 0.50, P(B) = 0.60 y P(A ∩ B) = 0.40.<br>\n",
    "print(0.4/0.6) #a. Halle P(A | B). \n",
    "print(0.4/0.5)#b. Halle P(B | A).\n",
    "print(0.5*0.6) # P(A) * P(B)"
   ]
  },
  {
   "cell_type": "code",
   "execution_count": null,
   "metadata": {},
   "outputs": [],
   "source": [
    "#2. Suponga dos eventos, A y B, que son mutuamente excluyentes. Admita, además, que P(A) = 0.30 y P(B) = 0.40.<br>\n",
    "#- a. Obtenga P(A ∩ B). ¿Existe intersección entre los dos conjuntos?.\n",
    "#- b. Calcule P(A | B).\n",
    "#P(A ∩ B) = 0\n",
    "#P(A|B) = P(A) = 0.3"
   ]
  },
  {
   "cell_type": "code",
   "execution_count": 5,
   "metadata": {},
   "outputs": [
    {
     "name": "stdout",
     "output_type": "stream",
     "text": [
      "0.159375\n",
      "0.390625\n"
     ]
    }
   ],
   "source": [
    "#3. Si en la concesionaria se seleccionan dos ventas con reposición (Los sucesos son independientes.). Hallar la probabilidad de que las ventas sean:<br>\n",
    " \n",
    "#  - a. La primera de un comprador de “menos de 40 años” y la segunda de uno de \"entre 40 y 50 años\". \n",
    "  \n",
    "#  - b. las dos sean de autos \"nacionales\".\n",
    "#p(<40) * P(entre 40 y 50)\n",
    "print((30/80) * (34/80) )\n",
    "print((50/80)**2)\n"
   ]
  },
  {
   "cell_type": "code",
   "execution_count": 9,
   "metadata": {},
   "outputs": [
    {
     "name": "stdout",
     "output_type": "stream",
     "text": [
      "0.16139240506329114\n",
      "0.3876582278481012\n"
     ]
    }
   ],
   "source": [
    "#4. Si la selección de las dos ventas se realiza sin reposición. Hallar la probabilidad de que las ventas sean:<br>\n",
    "#  Los sucesos son condicionales.\n",
    "\n",
    "# a. la primera de un comprador de “menos de 40 años” y la segunda de uno de \"entre 40 y 50 años\".\n",
    "\n",
    "# - b. las dos sean de autos \"nacionales\".\n",
    "print((30/80) * (34/79) )\n",
    "print((50/80) * (49/79))\n"
   ]
  },
  {
   "cell_type": "code",
   "execution_count": 10,
   "metadata": {},
   "outputs": [
    {
     "name": "stdout",
     "output_type": "stream",
     "text": [
      "0.3227848101265823\n"
     ]
    }
   ],
   "source": [
    "#5. Si la selección de las dos ventas se realiza sin reposición. Hallar la probabilidad de que las ventas sean:<br>\n",
    "#  Los sucesos son condicionales.\n",
    "  \n",
    "# - a. De un comprador de “menos de 40 años” y de uno de \"entre 40 y 50 años\".\n",
    "print((30/80) * (34/79) + (34/80) * (30/79))"
   ]
  }
 ],
 "metadata": {
  "interpreter": {
   "hash": "11938c6bc6919ae2720b4d5011047913343b08a43b18698fd82dedb0d4417594"
  },
  "kernelspec": {
   "display_name": "Python 3.9.7 64-bit",
   "language": "python",
   "name": "python3"
  },
  "language_info": {
   "codemirror_mode": {
    "name": "ipython",
    "version": 3
   },
   "file_extension": ".py",
   "mimetype": "text/x-python",
   "name": "python",
   "nbconvert_exporter": "python",
   "pygments_lexer": "ipython3",
   "version": "3.9.7"
  },
  "orig_nbformat": 4
 },
 "nbformat": 4,
 "nbformat_minor": 2
}
